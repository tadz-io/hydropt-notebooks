{
 "cells": [
  {
   "cell_type": "code",
   "execution_count": null,
   "metadata": {},
   "outputs": [],
   "source": [
    "import pandas as pd\n",
    "import numpy as np\n",
    "import matplotlib.pyplot as plt\n",
    "import plotly.express as px\n",
    "from scipy import optimize\n",
    "from sklearn.utils import resample\n",
    "import xarray as xr"
   ]
  },
  {
   "cell_type": "code",
   "execution_count": null,
   "metadata": {},
   "outputs": [],
   "source": [
    "plt.style.use('bmh')\n",
    "plt.rcParams['figure.figsize'] = (8,4)\n",
    "plt.rcParams.update({'font.size': 7})\n",
    "plt.rcParams.update({\"font.family\": \"DejaVu Sans\"})\n",
    "cstyles = [i['color'] for i in plt.style.library['ggplot']['axes.prop_cycle']]\n",
    "# from inches to cm\n",
    "cm = 1/2.54"
   ]
  },
  {
   "cell_type": "code",
   "execution_count": null,
   "metadata": {},
   "outputs": [],
   "source": [
    "wbands_hs = np.arange(400,711, 5)"
   ]
  },
  {
   "cell_type": "markdown",
   "metadata": {},
   "source": [
    "### SeaBass absorption distribution"
   ]
  },
  {
   "cell_type": "code",
   "execution_count": null,
   "metadata": {},
   "outputs": [],
   "source": [
    "# load a440 values from Craig et al. 2020\n",
    "a440_range = pd.read_csv('data/a440_craig_et_al_2020.csv')"
   ]
  },
  {
   "cell_type": "code",
   "execution_count": null,
   "metadata": {},
   "outputs": [],
   "source": [
    "p_ternary = px.scatter_ternary(a440_range, a='aph', b='ag', c='ad', opacity=.5)"
   ]
  },
  {
   "cell_type": "code",
   "execution_count": null,
   "metadata": {},
   "outputs": [],
   "source": [
    "p_ternary.show()"
   ]
  },
  {
   "cell_type": "markdown",
   "metadata": {},
   "source": [
    "### Water IOPs"
   ]
  },
  {
   "cell_type": "markdown",
   "metadata": {},
   "source": [
    "Load water absorption and backscatter"
   ]
  },
  {
   "cell_type": "code",
   "execution_count": null,
   "metadata": {},
   "outputs": [],
   "source": [
    "water_iop = pd.read_csv('../hydropt/data/water_mason016.csv', index_col='wavelength')"
   ]
  },
  {
   "cell_type": "markdown",
   "metadata": {},
   "source": [
    "### CDOM and detrital IOPs\n",
    "See Babin et al. (2003)\n",
    "\n",
    "Absorption:"
   ]
  },
  {
   "cell_type": "code",
   "execution_count": null,
   "metadata": {},
   "outputs": [],
   "source": [
    "np.random.seed(1)\n",
    "# CDOM: mu = 0.0176, sd = 0.002\n",
    "s_cdom = np.random.normal(.0176, .002, 1000)\n",
    "# NAP: mu = 0.0123, sd = 0.0013\n",
    "s_nap = np.random.normal(.0123, .0013, 1000)"
   ]
  },
  {
   "cell_type": "code",
   "execution_count": null,
   "metadata": {},
   "outputs": [],
   "source": [
    "fig, ax = plt.subplots(1,2, figsize=(10,6))\n",
    "ax[0].hist(s_cdom, bins=30);\n",
    "ax[0].set_xlabel('slope CDOM')\n",
    "ax[1].hist(s_nap, bins=30);\n",
    "ax[1].set_xlabel('slope NAP')"
   ]
  },
  {
   "cell_type": "code",
   "execution_count": null,
   "metadata": {},
   "outputs": [],
   "source": [
    "# spectral CDOM absorption\n",
    "a_cdom = lambda ag_440: ag_440*np.exp(-np.random.choice(s_cdom)*(wbands_hs-440))\n",
    "# spectral absorption by detrital matter\n",
    "a_dm = lambda adm_440: adm_440*np.exp(-np.random.choice(s_nap)*(wbands_hs-440))"
   ]
  },
  {
   "cell_type": "code",
   "execution_count": null,
   "metadata": {},
   "outputs": [],
   "source": [
    "# parameter p1\n",
    "p1 = lambda aph_440: .1+(.5*np.random.uniform(0,1)*aph_440)/(.05+aph_440)\n",
    "# parameter p2\n",
    "p2 = lambda aph_440: .3+(5.7*np.random.uniform(0,1)*aph_440)/(.02+aph_440)\n",
    "# absorption detrital matter @ 440nm\n",
    "adm_440 = lambda aph_440: p1(aph_440)*aph_440\n",
    "# absorption cdom\n",
    "ag_440 = lambda aph_440: p2(aph_440)*aph_440"
   ]
  },
  {
   "cell_type": "code",
   "execution_count": null,
   "metadata": {},
   "outputs": [],
   "source": [
    "np.random.seed(1)\n",
    "fig, ax = plt.subplots(1,2, figsize=(6,3), dpi=150)\n",
    "\n",
    "[ax[0].plot(wbands_hs, a_cdom(1), color='blue', alpha=.05) for _ in range(100)];\n",
    "ax[0].plot(wbands_hs, np.exp(-s_cdom.mean()*(wbands_hs-440)), linestyle='--', linewidth=1, color='red')\n",
    "ax[0].set_xlabel('wavelength (nm)')\n",
    "ax[0].set_ylabel('absorption ($m^{-1}$)')\n",
    "ax[0].set_title('(a)', loc='left')\n",
    "\n",
    "[ax[1].plot(wbands_hs, a_dm(1), color='blue', alpha=.05) for _ in range(100)];\n",
    "ax[1].plot(wbands_hs, np.exp(-s_nap.mean()*(wbands_hs-440)), linestyle='--', linewidth=1, color='red')\n",
    "ax[1].set_xlabel('wavelength (nm)')\n",
    "ax[1].set_ylabel('mass specific absorption ($m^{2}\\ g^{-1}$)')\n",
    "ax[1].set_title('(b)', loc='left')\n",
    "\n",
    "plt.tight_layout()\n",
    "#plt.savefig('cdom_dm_absorption.svg', format='svg')"
   ]
  },
  {
   "cell_type": "markdown",
   "metadata": {},
   "source": [
    "Backscatter:"
   ]
  },
  {
   "cell_type": "code",
   "execution_count": null,
   "metadata": {},
   "outputs": [],
   "source": [
    "# parameter p4\n",
    "p4 = lambda: np.random.uniform(.06,.6)\n",
    "# detrital backscatter at 550 nm - assuming bb ratio of 1.4% \n",
    "bbdm_550 = lambda chl: .014*p4()*chl**.766\n",
    "# parameter n2\n",
    "n2 = lambda chl: -.5+(2+1.2*np.random.uniform(0,1))/(1+chl**.5)\n",
    "# mass specific backscatter for detrital matter\n",
    "bbdm_s = lambda chl: (550/wbands_hs)**n2(chl)\n",
    "# spectral backscatte rfor detrital matter\n",
    "bbdm = lambda chl: bbdm_550(chl)*bbdm_s(chl)\n",
    "bbdm_2 = lambda adm_440, chl: bbdm_550(chl)*(550/wbands_hs)"
   ]
  },
  {
   "cell_type": "code",
   "execution_count": null,
   "metadata": {},
   "outputs": [],
   "source": [
    "bbdm_star = np.array([bbdm_s(i) for i in np.logspace(-2,2)])\n",
    "plt.figure(figsize=(3,3), dpi=150)\n",
    "plt.plot(wbands_hs, bbdm_star.T, color='blue', alpha=.1, linewidth=1)\n",
    "# assuming that parameter n2=1\n",
    "plt.plot(wbands_hs, (550/wbands_hs), color='red', linestyle='--', linewidth=1)\n",
    "# mean of all samples\n",
    "#plt.plot(wbands_hs, bbdm_star.mean(axis=0), color='green', linestyle='--')\n",
    "plt.xlabel('wavelength (nm)')\n",
    "plt.ylabel('mass specific backscatter ($m^2\\ g^{-1}$)')\n",
    "\n",
    "#plt.savefig('dm_backscatter.svg', format='svg')"
   ]
  },
  {
   "cell_type": "markdown",
   "metadata": {},
   "source": [
    "### Phytoplankton IOPs\n",
    "\n",
    "#### Spectral absorption"
   ]
  },
  {
   "cell_type": "code",
   "execution_count": null,
   "metadata": {},
   "outputs": [],
   "source": [
    "# siop for phytoplankton\n",
    "aph_s = pd.read_csv('../hydropt/data/psc_absorption_se_uitz_2008.csv', index_col='wavelength')"
   ]
  },
  {
   "cell_type": "code",
   "execution_count": null,
   "metadata": {},
   "outputs": [],
   "source": [
    "aph_s = aph_s.reindex(np.unique(np.sort(np.concatenate([aph_s.index, wbands_hs]))))\\\n",
    "            .interpolate()\\\n",
    "            .loc[wbands_hs]"
   ]
  },
  {
   "cell_type": "code",
   "execution_count": null,
   "metadata": {},
   "outputs": [],
   "source": [
    "N = 100\n",
    "# sample micro absorption\n",
    "a_micro = pd.DataFrame(np.array([aph_s.micro+aph_s.micro_se*i for i in np.random.randn(N)]).T,\n",
    "                       columns=[i for i in range(N)], index=aph_s.index)\n",
    "# sample nano absorption\n",
    "a_nano = pd.DataFrame(np.array([aph_s.nano+aph_s.nano_se*i for i in np.random.randn(N)]).T,\n",
    "                       columns=[i for i in range(N)], index=aph_s.index)\n",
    "# sample pico absorption\n",
    "a_pico = pd.DataFrame(np.array([aph_s.pico+aph_s.pico_se*i for i in np.random.randn(N)]).T,\n",
    "                       columns=[i for i in range(N)], index=aph_s.index)"
   ]
  },
  {
   "cell_type": "code",
   "execution_count": null,
   "metadata": {},
   "outputs": [],
   "source": [
    "olci_wbands = np.array([400,412.5,442.5,490,510,560,620,665,673.75,681.25,708.75])"
   ]
  },
  {
   "cell_type": "code",
   "execution_count": null,
   "metadata": {},
   "outputs": [],
   "source": [
    "np.random.seed(1)\n",
    "fig, ax = plt.subplots(1,3, figsize=(7.5, 3))\n",
    "\n",
    "# micros\n",
    "ax[0].plot(a_micro, alpha=.1, color='blue', linewidth=1);\n",
    "ax[0].plot(a_micro.mean(axis=1), color='red', linestyle='--', linewidth=1.5);\n",
    "ax[0].set_xlabel('wavelength (nm)')\n",
    "ax[0].set_ylabel('chlorophyll specific absorption ($m^2\\ mg^{-1}$)')\n",
    "ax[0].set_title('(a)', loc='left')\n",
    "# nanos\n",
    "ax[1].plot(a_nano, color='blue', alpha=.1, linewidth=1);\n",
    "ax[1].plot(a_nano.mean(axis=1), color='red', linestyle='--', linewidth=1.5);\n",
    "ax[1].set_xlabel('wavelength (nm)')\n",
    "ax[1].set_title('(b)', loc='left')\n",
    "# picos\n",
    "ax[2].plot(a_pico, color='blue', alpha=.1, linewidth=1);\n",
    "ax[2].plot(a_pico.mean(axis=1), color='red', linestyle='--', linewidth=1.5);\n",
    "ax[2].set_xlabel('wavelength (nm)')\n",
    "ax[2].set_title('(c)', loc='left')\n",
    "\n",
    "plt.tight_layout()\n",
    "\n",
    "#plt.savefig('psc_absorption.svg', format='svg')"
   ]
  },
  {
   "cell_type": "markdown",
   "metadata": {},
   "source": [
    "#### Backscatter"
   ]
  },
  {
   "cell_type": "code",
   "execution_count": null,
   "metadata": {},
   "outputs": [],
   "source": [
    "np.random.seed(1)\n",
    "# specific backscatter coefficient pico/nano\n",
    "bb_star_pn = .0038\n",
    "# standard error specific backscatter coefficient pico/nano\n",
    "bb_star_pn_se = .0006/1.96\n",
    "# spectral slope pico/nano\n",
    "gamma_pn = 1.4\n",
    "# standard error spectral slope\n",
    "gamma_pn_se = .35/1.96\n",
    "\n",
    "# specific backscatter coefficient micro\n",
    "bb_star_m = .0004\n",
    "# standard error specific backscatter coefficient pico/nano\n",
    "bb_star_m_se = .0002/1.96\n",
    "# spectral slope pico/nano\n",
    "gamma_m = -.4\n",
    "# standard error spectral slope\n",
    "gamma_m_se = 1.1/1.96\n",
    "\n",
    "# spectral specific backscatter \n",
    "def bbp(bb_star, gamma, waveb):\n",
    "    return bb_star*(waveb/470)**-gamma\n",
    "\n",
    "# create distribution for spectral backscatter coefficients\n",
    "bbp_pn = pd.DataFrame(np.array([bbp(i*bb_star_pn_se+bb_star_pn, i*gamma_pn_se+gamma_pn, wbands_hs) for i in np.random.randn(N)]).T,\n",
    "                      columns=[i for i in range(N)], index=wbands_hs)\n",
    "\n",
    "bbp_m = pd.DataFrame(np.array([bbp(i*bb_star_m_se+bb_star_m, i*gamma_m_se+gamma_m, wbands_hs) for i in np.random.randn(N)]).T,\n",
    "                     columns=[i for i in range(N)], index=wbands_hs)\n",
    "\n",
    "# remove potential negative bb values for micros\n",
    "bbp_m = bbp_m.loc[:, ~(bbp_m<0).any(0)]"
   ]
  },
  {
   "cell_type": "code",
   "execution_count": null,
   "metadata": {},
   "outputs": [],
   "source": [
    "fig, ax = plt.subplots(1,2, figsize=(6,3))\n",
    "# micros\n",
    "ax[0].plot(bbp_m, color='blue', alpha=.1, linewidth=1);\n",
    "# ax[0].plot(bbp_m.mean(axis=1), color='green', linestyle='--');\n",
    "ax[0].plot(wbands_hs, bbp(bb_star_m, gamma_m, wbands_hs), color='red', linestyle='--', linewidth=1.5)\n",
    "ax[0].set_xlabel('wavelength (nm)')\n",
    "ax[0].set_ylabel('chlorophyll specific backscatter ($m^2\\ mg^{-1}$)')\n",
    "ax[0].set_title('(a)', loc='left')\n",
    "# pico-nanos\n",
    "ax[1].plot(bbp_pn, color='blue', alpha=.1, linewidth=1);\n",
    "# ax[1].plot(bbp_pn.mean(axis=1), color='green', linestyle='--');\n",
    "ax[1].plot(wbands_hs, bbp(bb_star_pn, gamma_pn, wbands_hs), color='red', linestyle='--', linewidth=1.5)\n",
    "ax[1].set_xlabel('wavelength (nm)')\n",
    "ax[1].set_title('(b)', loc='left')\n",
    "\n",
    "plt.tight_layout()\n",
    "\n",
    "#plt.savefig('psc_backscatter.svg', format='svg')"
   ]
  },
  {
   "cell_type": "markdown",
   "metadata": {},
   "source": [
    "### Phytoplankton community structure"
   ]
  },
  {
   "cell_type": "code",
   "execution_count": null,
   "metadata": {},
   "outputs": [],
   "source": [
    "def psc_concentration(chl):\n",
    "    #constants\n",
    "    cm_pico_nano = 1.001\n",
    "    s_pico_nano = 0.931\n",
    "    cm_pico = 0.098\n",
    "    s_pico = 8.271\n",
    "    # calculate pico concentrations\n",
    "    c_pico = cm_pico*(1-np.exp(-s_pico*chl))\n",
    "    # calculate pico+nano concentrations\n",
    "    c_pico_nano = cm_pico_nano*(1-np.exp(-s_pico_nano*chl))\n",
    "    # calculate nano\n",
    "    c_nano = c_pico_nano - c_pico\n",
    "    # calculate micro \n",
    "    c_micro = chl - c_pico_nano\n",
    "    # chl per size class\n",
    "    c = pd.Series([c_pico, c_nano, c_micro], index=['pico','nano','micro'])\n",
    "    \n",
    "    return c"
   ]
  },
  {
   "cell_type": "code",
   "execution_count": null,
   "metadata": {},
   "outputs": [],
   "source": [
    "def add_lognormal_noise(x, noise=1):\n",
    "    y = pd.Series(\n",
    "        [np.random.lognormal(np.log(i), noise) for i in x], index=['pico','nano','micro'])  \n",
    "    # recalculate total chlorophyll\n",
    "    y['chl'] = y.sum()\n",
    "    \n",
    "    return y"
   ]
  },
  {
   "cell_type": "code",
   "execution_count": null,
   "metadata": {},
   "outputs": [],
   "source": [
    "psc_data = pd.DataFrame({\n",
    "    'chl': np.logspace(-2, 1.5, 500)\n",
    "})"
   ]
  },
  {
   "cell_type": "code",
   "execution_count": null,
   "metadata": {},
   "outputs": [],
   "source": [
    "psc_data =  psc_data.apply(lambda x: add_lognormal_noise(psc_concentration(x.chl)), axis=1)"
   ]
  },
  {
   "cell_type": "code",
   "execution_count": null,
   "metadata": {},
   "outputs": [],
   "source": [
    "plt.figure(figsize=(10,6))\n",
    "psc_model = psc_concentration(psc_data.chl)\n",
    "\n",
    "# picos\n",
    "plt.scatter(psc_data.chl, psc_data.pico/psc_data.chl, alpha=.5)\n",
    "plt.plot(psc_data.chl, psc_model.pico/psc_data.chl)\n",
    "#nanos\n",
    "plt.scatter(psc_data.chl, psc_data.nano/psc_data.chl, alpha=.5)\n",
    "plt.plot(psc_data.chl, psc_model.nano/psc_data.chl)\n",
    "#micros\n",
    "plt.scatter(psc_data.chl, psc_data.micro/psc_data.chl, alpha=.5)\n",
    "plt.plot(psc_data.chl, psc_model.micro/psc_data.chl)\n",
    "\n",
    "plt.xscale('log')\n",
    "plt.xlim(.011, psc_data.chl.max())"
   ]
  },
  {
   "cell_type": "markdown",
   "metadata": {},
   "source": [
    "### Synthetic IOP dataset\n",
    "Here we use *Lee et al. Models, parameters, and approaches that used to generate wide\n",
    "range of absorption and backscattering spectra, IOCCG* to generate plausible IOP ranges"
   ]
  },
  {
   "cell_type": "code",
   "execution_count": null,
   "metadata": {},
   "outputs": [],
   "source": [
    "def make_dataset(chl):    \n",
    "    chl_p, chl_n, chl_m = chl.pico, chl.nano, chl.micro\n",
    "    # total chlorophyll\n",
    "    t_chl = ['pico', 'nano', 'micro']\n",
    "    # fill array with nans according to IOP dimensions\n",
    "    null_array = np.full((2, len(wbands_hs)), np.nan)\n",
    "    # init. xarray dataset\n",
    "    ds = xr.Dataset(\n",
    "        {\n",
    "            'iops': (['comp', 'iop', 'wavelength'],\n",
    "                     np.repeat(null_array[None,:], 6, axis=0)),\n",
    "            'conc': (['comp'], np.array([chl_p, chl_n, chl_m, np.nan, np.nan, np.nan]))\n",
    "        },\n",
    "        coords={\n",
    "            'no': np.array([chl.name]),\n",
    "            'wavelength': wbands_hs,\n",
    "            'comp': ['pico', 'nano', 'micro', 'cdom', 'dm', 'water'],\n",
    "            'iop': ['a', 'bb']\n",
    "        })\n",
    "    # water\n",
    "    ds.iops.loc['water'] = water_iop.values.T\n",
    "    # picos\n",
    "    ds.iops.loc['pico'] = chl_p * np.array([\n",
    "        a_pico.sample(axis=1).values[:,0],\n",
    "        bbp_pn.sample(axis=1).values[:,0]])   \n",
    "    # nanos\n",
    "    ds.iops.loc['nano'] = chl_n * np.array([\n",
    "        a_nano.sample(axis=1).values[:,0],\n",
    "        bbp_pn.sample(axis=1).values[:,0]])\n",
    "    # micros\n",
    "    ds.iops.loc['micro'] = chl_m * np.array([\n",
    "        a_micro.sample(axis=1).values[:,0],\n",
    "        bbp_m.sample(axis=1).values[:,0]])\n",
    "    # calculate aph @ 440 nm\n",
    "    aph_440 = ds.iops.sel(wavelength=440, iop='a', comp=t_chl).sum().values\n",
    "    # calculate detrital IOPs\n",
    "#     _adm_440 = adm_440(aph_440)\n",
    "#     ds.iops.loc['dm'] = np.array([a_dm(_adm_440), bbdm_2(_adm_440, chl.sum())])\n",
    "    ds.iops.loc['dm'] = np.array([a_dm(adm_440(aph_440)), bbdm(chl.sum())])\n",
    "    # calculate CDOM absorption\n",
    "    ds.iops.loc['cdom'] = np.array([a_cdom(ag_440(aph_440)), np.zeros(len(wbands_hs))])\n",
    "    \n",
    "    return ds"
   ]
  },
  {
   "cell_type": "code",
   "execution_count": null,
   "metadata": {},
   "outputs": [],
   "source": [
    "ds = psc_data.apply(make_dataset, axis=1)"
   ]
  },
  {
   "cell_type": "code",
   "execution_count": null,
   "metadata": {},
   "outputs": [],
   "source": [
    "ds = xr.concat(ds, dim='no')"
   ]
  },
  {
   "cell_type": "markdown",
   "metadata": {},
   "source": [
    "Remove IOP simulations where total absorption (at 440 nm) exceeds minimum and maximum absorption values used for HYDROPT construction."
   ]
  },
  {
   "cell_type": "code",
   "execution_count": null,
   "metadata": {},
   "outputs": [],
   "source": [
    "# filter a440 (excl. water) that exceed HYDROPT min and max a440 values\n",
    "a440_max = 13.76\n",
    "a440_min = .008\n",
    "# condition\n",
    "sel = (ds.iops.sel(iop='a', comp=['pico','nano','micro','dm','cdom'], wavelength=440).sum(axis=1) > a440_min)\\\n",
    "    & (ds.iops.sel(iop='a', comp=['pico','nano','micro','dm','cdom'], wavelength=440).sum(axis=1) < a440_max)\n",
    "ds = ds.where(sel, drop=True)"
   ]
  },
  {
   "cell_type": "code",
   "execution_count": null,
   "metadata": {},
   "outputs": [],
   "source": [
    "# save to netcdf\n",
    "ds.to_netcdf('data/psc_rrs_iop_v2.nc')"
   ]
  },
  {
   "cell_type": "code",
   "execution_count": null,
   "metadata": {},
   "outputs": [],
   "source": []
  }
 ],
 "metadata": {
  "kernelspec": {
   "display_name": "Python 3.6.4 64-bit ('hydropt-4-sent3': conda)",
   "language": "python",
   "name": "python36464bithydropt4sent3condaecaad8e5a2a4432fb3fef79a9eadc220"
  },
  "language_info": {
   "codemirror_mode": {
    "name": "ipython",
    "version": 3
   },
   "file_extension": ".py",
   "mimetype": "text/x-python",
   "name": "python",
   "nbconvert_exporter": "python",
   "pygments_lexer": "ipython3",
   "version": "3.6.4"
  }
 },
 "nbformat": 4,
 "nbformat_minor": 4
}
