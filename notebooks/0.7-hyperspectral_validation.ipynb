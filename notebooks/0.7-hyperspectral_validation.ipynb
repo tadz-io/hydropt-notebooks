{
 "cells": [
  {
   "cell_type": "code",
   "execution_count": null,
   "metadata": {},
   "outputs": [],
   "source": [
    "import numpy as np\n",
    "import pandas as pd\n",
    "import matplotlib.pyplot as plt\n",
    "import xarray as xr\n",
    "import string\n",
    "import matplotlib.gridspec as gridspec\n",
    "from scipy import stats\n",
    "from scipy.stats import gaussian_kde\n",
    "from sklearn.linear_model import LinearRegression\n",
    "from sklearn.metrics import r2_score, mean_squared_error, mean_absolute_error"
   ]
  },
  {
   "cell_type": "code",
   "execution_count": null,
   "metadata": {},
   "outputs": [],
   "source": [
    "plt.style.use('bmh')\n",
    "plt.rcParams.update({'font.size': 7})\n",
    "plt.rcParams.update({\"font.family\": \"DejaVu Sans\"})"
   ]
  },
  {
   "cell_type": "code",
   "execution_count": null,
   "metadata": {},
   "outputs": [],
   "source": [
    "# load Rrs - IOP dataset\n",
    "ds = xr.load_dataset('./data/psc_rrs_iop.nc')\n",
    "# load inversion results\n",
    "ds_inv = xr.load_dataset('./data/psc_rrs_inversion.nc')"
   ]
  },
  {
   "cell_type": "code",
   "execution_count": null,
   "metadata": {},
   "outputs": [],
   "source": [
    "ds_inv['iop'] = ['a', 'bb']"
   ]
  },
  {
   "cell_type": "code",
   "execution_count": null,
   "metadata": {},
   "outputs": [],
   "source": [
    "ds_inv['r_error'] = ds_inv.std_error/ds_inv.conc"
   ]
  },
  {
   "cell_type": "code",
   "execution_count": null,
   "metadata": {},
   "outputs": [],
   "source": [
    "ds_inv['conc'] = ds_inv.conc.where(ds_inv.r_error<2)\n",
    "ds_inv['iops'] = ds_inv.iops.where(ds_inv.r_error<2)"
   ]
  },
  {
   "cell_type": "code",
   "execution_count": null,
   "metadata": {},
   "outputs": [],
   "source": [
    "# ds_inv['conc'] = ds_inv.conc.where(id_nan)\n",
    "#ds_inv['iops'] = ds_inv.iops.where(id_nan)"
   ]
  },
  {
   "cell_type": "code",
   "execution_count": null,
   "metadata": {},
   "outputs": [],
   "source": [
    "def mean_normalised_bias(x, y):\n",
    "    return np.sum((y-x)/x)/len(x)\n",
    "\n",
    "def mean_bias(x, y):\n",
    "    return np.sum(y-x)/len(x)"
   ]
  },
  {
   "cell_type": "code",
   "execution_count": null,
   "metadata": {},
   "outputs": [],
   "source": [
    "def plot_validation(xy, x_label=None, y_label=None, ncol=2, **kwargs):\n",
    "    nrow = int(np.ceil(len(xy)/ncol))\n",
    "    fig, axs = plt.subplots(nrow, ncol, figsize=kwargs.get('figsize'), dpi=150)\n",
    "    axs = axs.flat\n",
    "    # font\n",
    "    font = {'fontname': kwargs.get('font')}\n",
    "    \n",
    "    for (i,j) in zip(xy, list(string.ascii_lowercase)):\n",
    "        x = i.get('x').values\n",
    "        y = i.get('y').values\n",
    "        # total number of observation\n",
    "        n = len(x)\n",
    "        # mask nans\n",
    "        mask = ~np.any([np.isnan(y), y==0], axis=0)\n",
    "        x = x[mask]\n",
    "        y = y[mask]\n",
    "        # calculate scatter point densities\n",
    "        xy_log = np.vstack([np.log10(x),np.log10(y)])\n",
    "        z = gaussian_kde(xy_log)(xy_log)\n",
    "        # Sort the points by density, so that the densest points are plotted last\n",
    "        idx = z.argsort()\n",
    "        x, y, z = x[idx], y[idx], z[idx]\n",
    "        \n",
    "        ax = next(axs)\n",
    "        # determine min and max of axes\n",
    "        ax_min, ax_max = [np.min(x)*.2, np.max(x)*2.5]\n",
    "        ay_min, ay_max = [np.min(y)*.2, np.max(y)*2.5]\n",
    "        # log-transform x and y\n",
    "        x_log = np.log10(np.reshape(x, (-1,1)))\n",
    "        y_log = np.log10(np.reshape(y, (-1,1)))\n",
    "        # calculate regression stats\n",
    "        lm = LinearRegression().fit(x_log,y_log)\n",
    "        # regression line\n",
    "        x_log_range = np.logspace(np.log10(ax_min), np.log10(ax_max))\n",
    "        lm_line = np.power(10, lm.coef_[0][0]*np.log10(x_log_range)+lm.intercept_[0])\n",
    "        # color\n",
    "#         col = np.log(bbdm_550)[mask]\n",
    "        \n",
    "        # plot scatter\n",
    "        ax.plot(x_log_range,  lm_line, color='red', linewidth=.5, linestyle='--')\n",
    "        #ax.scatter(x[mask], y[mask], c=col[mask], alpha=.7, edgecolor='black')\n",
    "        ax.scatter(x, y, alpha=.7, c=z, s=25, edgecolor='black', linewidth=.05)\n",
    "        ax.plot(np.linspace(ax_min, ax_max),\n",
    "                np.linspace(ax_min, ax_max), 'k', linewidth=.5)\n",
    "        # stats\n",
    "        mae = np.power(10, mean_absolute_error(x_log, y_log))\n",
    "        mb = np.power(10, mean_bias(x_log, y_log))\n",
    "        r2 = r2_score(x_log,y_log)\n",
    "        slope = lm.coef_[0][0]\n",
    "        intercept = lm.intercept_[0]\n",
    "        \n",
    "        # plot stats\n",
    "        stat_str = 'MAE: {0:.3g}\\nBias: {1: .3g}\\nR2: {2:.3g}\\nSlope: {3:.3g}\\nIntercept: {4:.3g}\\nf: {5:.3g}'\\\n",
    "                .format(mae,\n",
    "                        mb,\n",
    "                        r2,\n",
    "                        slope,\n",
    "                        intercept,\n",
    "                        len(x)/n)\n",
    "        ax.annotate(stat_str, xy=(.05, .95), xycoords='axes fraction', ha='left', va='top')\n",
    "        ax.set_title('({})'.format(j), loc='left')\n",
    "        # set axis labels and scale\n",
    "        #ax.set_xlabel('forward modelled ({})'.format(i.get('units')), **font)\n",
    "        #ax.set_ylabel('inverse modelled ({})'.format(i.get('units')), **font)\n",
    "        ax.set_xscale('log')\n",
    "        ax.set_yscale('log')\n",
    "        # set axis limits\n",
    "        ax.set_xlim([ax_min, ax_max])\n",
    "        ax.set_ylim([ay_min, ay_max])  \n",
    "   \n",
    "    [i.set_xlabel('forward modelled ($mg\\ m^{-3}$)') for i in axs[-2:]]\n",
    "    [i.set_ylabel('inverse modelled ($mg\\ m^{-3}$)') for i in axs[0:4:2]]\n",
    "    # optional: delete last subplot\n",
    "    #fig.delaxes(axs[3])\n",
    "    fig.subplots_adjust(right=0.8)\n",
    "    fig.tight_layout()\n",
    "    \n",
    "    \n",
    "    return None"
   ]
  },
  {
   "cell_type": "markdown",
   "metadata": {},
   "source": [
    "### Chlorophyll retrievals"
   ]
  },
  {
   "cell_type": "code",
   "execution_count": null,
   "metadata": {},
   "outputs": [],
   "source": [
    "# pico\n",
    "pico = {\n",
    "    'x': ds.conc.sel(comp='pico'),\n",
    "    'y': ds_inv.conc.sel(comp='pico'),\n",
    "    'units': '$mg\\ m^{-3}$',\n",
    "    'name': 'pico'\n",
    "}\n",
    "# nano\n",
    "nano = {\n",
    "    'x': ds.conc.sel(comp='nano'),\n",
    "    'y': ds_inv.conc.sel(comp='nano'),\n",
    "    'units': '$mg\\ m^{-3}$',\n",
    "    'name': 'nano'\n",
    "}\n",
    "# micro\n",
    "micro = {\n",
    "    'x': ds.conc.sel(comp='micro'),\n",
    "    'y': ds_inv.conc.sel(comp='micro'),\n",
    "    'units': '$mg\\ m^{-3}$',\n",
    "    'name': 'micro'\n",
    "}\n",
    "# total chlorophyll\n",
    "chl = {\n",
    "    'x': ds.conc.sel(comp=['pico', 'nano', 'micro']).sum(axis=1),\n",
    "    'y': ds_inv.conc.sel(comp=['pico', 'nano', 'micro']).sum(axis=1),\n",
    "    'units': '$mg\\ m^{-3}$',\n",
    "    'name': 'chl'\n",
    "}"
   ]
  },
  {
   "cell_type": "code",
   "execution_count": null,
   "metadata": {},
   "outputs": [],
   "source": [
    "plot_validation([pico, nano, micro, chl], figsize=(6,6))\n",
    "#plt.savefig('psc_retrieval.svg', format='svg')"
   ]
  },
  {
   "cell_type": "markdown",
   "metadata": {},
   "source": [
    "### IOP retrievals"
   ]
  },
  {
   "cell_type": "markdown",
   "metadata": {},
   "source": [
    "Absorption by detrital matter and CDOM..."
   ]
  },
  {
   "cell_type": "code",
   "execution_count": null,
   "metadata": {},
   "outputs": [],
   "source": [
    "# detrital matter absorption\n",
    "adm_440 = {\n",
    "    'x': ds.iops.sel(comp='dm', iop='a', wavelength=440),\n",
    "    'y': ds_inv.iops.sel(comp='dm', iop='a', wavelength=440),\n",
    "    'units': '$m^{-1}$',\n",
    "    'name': 'detrital matter $a(440)$'\n",
    "}\n",
    "# detrital matter bb\n",
    "bbdm_550 = {\n",
    "    'x': ds.iops.sel(comp='dm', iop='bb', wavelength=550),\n",
    "    'y': ds_inv.iops.sel(comp='dm', iop='bb', wavelength=550),\n",
    "    'units': '$m^{-1}$',\n",
    "    'name': 'detrital matter $b_b(550)$'\n",
    "}\n",
    "# cdom\n",
    "cdom_440 = {\n",
    "    'x': ds.iops.sel(comp='cdom', iop='a', wavelength=440),\n",
    "    'y': ds_inv.iops.sel(comp='cdom', iop='a', wavelength=440),\n",
    "    'units': '$m^{-1}$',\n",
    "    'name': 'cdom $a(440)$'\n",
    "}"
   ]
  },
  {
   "cell_type": "code",
   "execution_count": null,
   "metadata": {},
   "outputs": [],
   "source": [
    "plot_validation([adm_440, bbdm_550, cdom_440], figsize=(6,6))\n",
    "#plt.savefig('cdom_dm_iop_retrieval.svg', format='svg')"
   ]
  },
  {
   "cell_type": "markdown",
   "metadata": {},
   "source": [
    "Total absorption (at 440 nm) and backscatter (at 550 nm)..."
   ]
  },
  {
   "cell_type": "code",
   "execution_count": null,
   "metadata": {},
   "outputs": [],
   "source": [
    "# total absorption @ 440 nm\n",
    "a_440 = {\n",
    "    'x': ds.iops.sel(wavelength=440, iop='a').sum(axis=1),\n",
    "    'y': ds_inv.iops.sel(wavelength=440, iop='a').sum(axis=1),\n",
    "    'units': '$m^{-1}$',\n",
    "    'name': 'total absorption (440 nm)'\n",
    "}\n",
    "# total backscatter @ 550 nm\n",
    "bb_550 = {\n",
    "    'x': ds.iops.sel(wavelength=550, iop='bb').sum(axis=1),\n",
    "    'y': ds_inv.iops.sel(wavelength=550, iop='bb').sum(axis=1),\n",
    "    'units': '$m^{-1}$',\n",
    "    'name': 'total backscatter (550 nm)'\n",
    "}"
   ]
  },
  {
   "cell_type": "code",
   "execution_count": null,
   "metadata": {},
   "outputs": [],
   "source": [
    "plot_validation([a_440, bb_550], figsize=(12,6))"
   ]
  },
  {
   "cell_type": "markdown",
   "metadata": {},
   "source": [
    "### $R_{rs}$ validation"
   ]
  },
  {
   "cell_type": "code",
   "execution_count": null,
   "metadata": {},
   "outputs": [],
   "source": [
    "#rrs @ 440\n",
    "rrs_440 = {\n",
    "    'x': ds.rrs.sel(wavelength=440),\n",
    "    'y': ds_inv.rrs.sel(wavelength=440),\n",
    "    'units': '$sr^{-1}$',\n",
    "    'name': '$R_{rs}(440)$'\n",
    "}\n",
    "# rrs @ 550\n",
    "rrs_550 = {\n",
    "    'x': ds.rrs.sel(wavelength=550),\n",
    "    'y': ds_inv.rrs.sel(wavelength=550),\n",
    "    'units': '$sr^{-1}$',\n",
    "    'name': '$R_{rs}(550)$'\n",
    "}"
   ]
  },
  {
   "cell_type": "code",
   "execution_count": null,
   "metadata": {},
   "outputs": [],
   "source": [
    "plot_validation([rrs_440, rrs_550], figsize=(12,6))"
   ]
  },
  {
   "cell_type": "code",
   "execution_count": null,
   "metadata": {},
   "outputs": [],
   "source": []
  }
 ],
 "metadata": {
  "kernelspec": {
   "display_name": "Python 3.6.4 64-bit ('hydropt-4-sent3': conda)",
   "language": "python",
   "name": "python36464bithydropt4sent3condaecaad8e5a2a4432fb3fef79a9eadc220"
  },
  "language_info": {
   "codemirror_mode": {
    "name": "ipython",
    "version": 3
   },
   "file_extension": ".py",
   "mimetype": "text/x-python",
   "name": "python",
   "nbconvert_exporter": "python",
   "pygments_lexer": "ipython3",
   "version": "3.6.4"
  }
 },
 "nbformat": 4,
 "nbformat_minor": 4
}
