{
 "cells": [
  {
   "cell_type": "code",
   "execution_count": null,
   "metadata": {},
   "outputs": [],
   "source": [
    "import pandas as pd\n",
    "import numpy as np\n",
    "import matplotlib.pyplot as plt\n",
    "import xarray as xr\n",
    "import hydropt.hydropt as hd\n",
    "import hydropt.iops as iops;\n",
    "import lmfit"
   ]
  },
  {
   "cell_type": "code",
   "execution_count": null,
   "metadata": {},
   "outputs": [],
   "source": [
    "plt.style.use('bmh')"
   ]
  },
  {
   "cell_type": "code",
   "execution_count": null,
   "metadata": {},
   "outputs": [],
   "source": [
    "wbands_hs = np.arange(400, 711, 5)"
   ]
  },
  {
   "cell_type": "code",
   "execution_count": null,
   "metadata": {},
   "outputs": [],
   "source": [
    "# load Rrs - IOP dataset\n",
    "ds = xr.load_dataset('./data/psc_rrs_iop.nc')"
   ]
  },
  {
   "cell_type": "markdown",
   "metadata": {},
   "source": [
    "in case variable $b_b(550)\\ /\\ a(440)$ gives problems with inversion change iop dataset by setting $b_b(550)$ for detrital matter to 1/2 times $a(440)$"
   ]
  },
  {
   "cell_type": "code",
   "execution_count": null,
   "metadata": {},
   "outputs": [],
   "source": [
    "# siop for phytoplankton\n",
    "aph_s = pd.read_csv('../hydropt/data/psc_absorption_se_uitz_2008.csv',\n",
    "                    index_col='wavelength')"
   ]
  },
  {
   "cell_type": "code",
   "execution_count": null,
   "metadata": {},
   "outputs": [],
   "source": [
    "# absorption micros\n",
    "a_micro = iops.interpolate_to_wavebands(aph_s[['micro']], wbands_hs)\n",
    "# absorption nanos\n",
    "a_nano = iops.interpolate_to_wavebands(aph_s[['nano']], wbands_hs)\n",
    "# absorption picos\n",
    "a_pico = iops.interpolate_to_wavebands(aph_s[['pico']], wbands_hs)"
   ]
  },
  {
   "cell_type": "code",
   "execution_count": null,
   "metadata": {},
   "outputs": [],
   "source": [
    "def pico(*args):\n",
    "    '''\n",
    "    pico IOP model\n",
    "    \n",
    "    chl - concentration in mg/m3\n",
    "    '''\n",
    "    def iop(chl=args[0]):\n",
    "        # chl specific absorption \n",
    "        a_star = a_pico['pico'].values\n",
    "        bb_star = .0038*(wbands_hs/470)**-1.4\n",
    "\n",
    "        return chl*np.array([a_star.reshape(-1), bb_star])\n",
    "    \n",
    "    def gradient(*args):\n",
    "        d_a = a_pico['pico'].values\n",
    "        d_bb = .0038*(wbands_hs/470)**-1.4\n",
    "\n",
    "        return np.array([d_a.reshape(-1), d_bb])\n",
    "    \n",
    "    return iop, gradient\n",
    "\n",
    "def nano(*args):\n",
    "    '''\n",
    "    nano IOP model\n",
    "    \n",
    "    chl - concentration in mg/m3\n",
    "    '''\n",
    "    def iop(chl=args[0]):\n",
    "        # chl specific absorption \n",
    "        a_star = a_nano['nano'].values\n",
    "        bb_star = .0038*(wbands_hs/470)**-1.4\n",
    "\n",
    "        return chl*np.array([a_star.reshape(-1), bb_star])\n",
    "\n",
    "    def gradient(*args):\n",
    "        d_a = a_nano['nano'].values\n",
    "        d_bb = .0038*(wbands_hs/470)**-1.4\n",
    "\n",
    "        return np.array([d_a.reshape(-1), d_bb])\n",
    "    \n",
    "    return iop, gradient\n",
    "\n",
    "def micro(*args):\n",
    "    '''\n",
    "    micro IOP model\n",
    "    \n",
    "    chl - concentration in mg/m3\n",
    "    '''\n",
    "    def iop(chl=args[0]):\n",
    "        # chl specific absorption \n",
    "        a_star = a_micro['micro'].values\n",
    "        bb_star = .0004*(wbands_hs/470)**.4\n",
    "\n",
    "        return chl*np.array([a_star.reshape(-1), bb_star])\n",
    "    \n",
    "    def gradient(*args):\n",
    "        d_a = a_micro['micro'].values\n",
    "        d_bb = .0004*(wbands_hs/470)**.4\n",
    "\n",
    "        return np.array([d_a.reshape(-1), d_bb])\n",
    "    \n",
    "    return iop, gradient"
   ]
  },
  {
   "cell_type": "code",
   "execution_count": null,
   "metadata": {},
   "outputs": [],
   "source": [
    "def detrital_matter(*args):\n",
    "    '''\n",
    "    IOP model for detrital matter\n",
    "    '''\n",
    "    # vectorized\n",
    "    def iop(spm=args[0]):\n",
    "        a = np.exp(-.0123*(wbands_hs-440))\n",
    "        bb = (.21*spm**-.21)*(550/wbands_hs)\n",
    "       #bb = .5*(550/wbands_hs)\n",
    "        \n",
    "        return spm*np.array([a, bb])\n",
    "    \n",
    "    def gradient(spm=args[0]):\n",
    "        d_a = np.exp(-.0123*(wbands_hs-440))\n",
    "        d_bb = .21*.79*spm**-.21*(550/wbands_hs)\n",
    "        \n",
    "        return np.array([d_a.reshape(-1), d_bb])\n",
    "    \n",
    "    return iop, gradient"
   ]
  },
  {
   "cell_type": "code",
   "execution_count": null,
   "metadata": {},
   "outputs": [],
   "source": [
    "def cdom(*args):\n",
    "    '''\n",
    "    IOP model for CDOM\n",
    "    '''\n",
    "    def iop(a_440=args[0]):\n",
    "        a = a_440*np.exp(-0.0177*(wbands_hs-440))\n",
    "        bb = np.zeros(len(wbands_hs))\n",
    "        \n",
    "        return np.array([a, bb])\n",
    "    \n",
    "    def gradient(*args):\n",
    "        d_a = np.exp(-0.0177*(wbands_hs-440))\n",
    "        d_bb = np.zeros(len(wbands_hs))\n",
    "        \n",
    "        return np.array([d_a.reshape(-1), d_bb])\n",
    "    \n",
    "    return iop, gradient"
   ]
  },
  {
   "cell_type": "code",
   "execution_count": null,
   "metadata": {},
   "outputs": [],
   "source": [
    "# initiate IOP model\n",
    "iop_model = iops.BioOpticalModel()\n",
    "iop_model.set_iop(\n",
    "    wavebands=wbands_hs,\n",
    "    pico=pico,\n",
    "    nano=nano,\n",
    "    micro=micro,\n",
    "    dm = detrital_matter,\n",
    "    cdom = cdom,\n",
    "    water=iops.h2o)"
   ]
  },
  {
   "cell_type": "code",
   "execution_count": null,
   "metadata": {},
   "outputs": [],
   "source": [
    "iop_model.plot(pico=1, nano=1, micro=1)\n",
    "iop_model.plot(dm=1, cdom=1, water=None)"
   ]
  },
  {
   "cell_type": "code",
   "execution_count": null,
   "metadata": {},
   "outputs": [],
   "source": [
    "# initiate forward model\n",
    "fwd_model = hd.PolynomialForward(iop_model)"
   ]
  },
  {
   "cell_type": "code",
   "execution_count": null,
   "metadata": {},
   "outputs": [],
   "source": [
    "# inverse model\n",
    "inv_model = hd.InversionModel(fwd_model=fwd_model, minimizer=lmfit.minimize)"
   ]
  },
  {
   "cell_type": "code",
   "execution_count": null,
   "metadata": {},
   "outputs": [],
   "source": [
    "# set initial guess parameters close to measured values\n",
    "x0 = lmfit.Parameters()\n",
    "#3 comp model\n",
    "x0.add('cdom', value=.02, min=1E-9)\n",
    "x0.add('dm', value=.05, min=1E-9)\n",
    "x0.add('pico', value=.6, min=1E-9)\n",
    "x0.add('nano', value=.6, min=1E-9)\n",
    "x0.add('micro', value=.6, min=1E-9)"
   ]
  },
  {
   "cell_type": "code",
   "execution_count": null,
   "metadata": {},
   "outputs": [],
   "source": [
    "y_hat = ds.rrs.groupby('no').apply(inv_model.invert, x=x0, jac=True)"
   ]
  },
  {
   "cell_type": "code",
   "execution_count": null,
   "metadata": {},
   "outputs": [],
   "source": [
    "y_hat.to_netcdf('data/psc_rrs_inversion.nc')"
   ]
  },
  {
   "cell_type": "code",
   "execution_count": null,
   "metadata": {},
   "outputs": [],
   "source": []
  }
 ],
 "metadata": {
  "kernelspec": {
   "display_name": "Python 3.6.4 64-bit ('hydropt-4-sent3': conda)",
   "language": "python",
   "name": "python36464bithydropt4sent3condaecaad8e5a2a4432fb3fef79a9eadc220"
  },
  "language_info": {
   "codemirror_mode": {
    "name": "ipython",
    "version": 3
   },
   "file_extension": ".py",
   "mimetype": "text/x-python",
   "name": "python",
   "nbconvert_exporter": "python",
   "pygments_lexer": "ipython3",
   "version": "3.6.4"
  }
 },
 "nbformat": 4,
 "nbformat_minor": 4
}
