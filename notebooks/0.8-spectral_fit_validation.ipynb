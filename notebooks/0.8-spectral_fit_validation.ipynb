{
 "cells": [
  {
   "cell_type": "code",
   "execution_count": 23,
   "metadata": {},
   "outputs": [],
   "source": [
    "import numpy as np\n",
    "import pandas as pd\n",
    "import matplotlib.pyplot as plt\n",
    "import xarray as xr\n",
    "import string"
   ]
  },
  {
   "cell_type": "code",
   "execution_count": 2,
   "metadata": {},
   "outputs": [],
   "source": [
    "plt.style.use('bmh')\n",
    "plt.rcParams.update({'font.size': 7})\n",
    "plt.rcParams.update({\"font.family\": \"DejaVu Sans\"})"
   ]
  },
  {
   "cell_type": "code",
   "execution_count": 3,
   "metadata": {},
   "outputs": [],
   "source": [
    "# load Rrs - IOP dataset\n",
    "ds = xr.load_dataset('./data/psc_rrs_iop.nc')\n",
    "# load inversion results\n",
    "ds_inv = xr.load_dataset('./data/psc_rrs_inversion.nc')"
   ]
  },
  {
   "cell_type": "code",
   "execution_count": 4,
   "metadata": {},
   "outputs": [],
   "source": [
    "ds_inv['iop'] = ['a', 'bb']"
   ]
  },
  {
   "cell_type": "code",
   "execution_count": 5,
   "metadata": {},
   "outputs": [],
   "source": [
    "# select spectra\n",
    "no = 92"
   ]
  },
  {
   "cell_type": "code",
   "execution_count": 1,
   "metadata": {},
   "outputs": [],
   "source": [
    "def plot_spectral_fit(xy, ncol=2, **kwargs):\n",
    "    nrow = int(np.ceil(len(xy)/ncol))\n",
    "    fig, axs = plt.subplots(nrow, ncol, figsize=kwargs.get('figsize'), sharex=True, dpi=100)\n",
    "    axs = axs.flat\n",
    "    # font\n",
    "    font = {'fontname': kwargs.get('font')}\n",
    "    legend = True\n",
    "    \n",
    "    for (i, j) in zip(xy, list(string.ascii_lowercase)):\n",
    "        y1 = i.get('y1').values\n",
    "        y2 = i.get('y2').values\n",
    "        x = i.get('y1')[i.get('y1').dims[0]].values\n",
    "        # get next axes\n",
    "        ax = next(axs)\n",
    "        \n",
    "        ax.plot(x, y1,\n",
    "                marker='o',\n",
    "                markersize=4,\n",
    "                linestyle='--',\n",
    "                linewidth=1,\n",
    "                alpha=.7,\n",
    "                markeredgecolor='black',\n",
    "                markeredgewidth=.5,\n",
    "                label='forward modelled')\n",
    "        \n",
    "        ax.plot(x, y2,\n",
    "                marker='o',\n",
    "                markersize=4,\n",
    "                linestyle='--',\n",
    "                linewidth=1,\n",
    "                alpha=.7,\n",
    "                markeredgecolor='black',\n",
    "                markeredgewidth=.5,\n",
    "                label='inverse modelled')\n",
    "        \n",
    "        # title and labels\n",
    "        ax.set_title('({})'.format(j), loc='left')\n",
    "        ax.set_ylabel('{}'.format(i.get('units')), **font)\n",
    "        #ax.set_xlabel('wavelength (nm)')\n",
    "        if legend:\n",
    "            ax.legend()\n",
    "            legend = False\n",
    "        \n",
    "        fig.tight_layout()\n",
    "        \n",
    "    [i.set_xlabel('wavelength (nm)') for i in axs[-2:]]\n",
    "        \n",
    "    "
   ]
  },
  {
   "cell_type": "code",
   "execution_count": 2,
   "metadata": {},
   "outputs": [
    {
     "ename": "NameError",
     "evalue": "name 'ds' is not defined",
     "output_type": "error",
     "traceback": [
      "\u001b[0;31m---------------------------------------------------------------------------\u001b[0m",
      "\u001b[0;31mNameError\u001b[0m                                 Traceback (most recent call last)",
      "\u001b[0;32m<ipython-input-2-059e4709db15>\u001b[0m in \u001b[0;36m<module>\u001b[0;34m\u001b[0m\n\u001b[1;32m      1\u001b[0m \u001b[0;31m#Rrs\u001b[0m\u001b[0;34m\u001b[0m\u001b[0;34m\u001b[0m\u001b[0m\n\u001b[1;32m      2\u001b[0m rrs = {\n\u001b[0;32m----> 3\u001b[0;31m     \u001b[0;34m'y1'\u001b[0m\u001b[0;34m:\u001b[0m \u001b[0mds\u001b[0m\u001b[0;34m.\u001b[0m\u001b[0mrrs\u001b[0m\u001b[0;34m.\u001b[0m\u001b[0misel\u001b[0m\u001b[0;34m(\u001b[0m\u001b[0mno\u001b[0m\u001b[0;34m=\u001b[0m\u001b[0mno\u001b[0m\u001b[0;34m)\u001b[0m\u001b[0;34m,\u001b[0m\u001b[0;34m\u001b[0m\u001b[0m\n\u001b[0m\u001b[1;32m      4\u001b[0m     \u001b[0;34m'y2'\u001b[0m\u001b[0;34m:\u001b[0m \u001b[0mds_inv\u001b[0m\u001b[0;34m.\u001b[0m\u001b[0mrrs\u001b[0m\u001b[0;34m.\u001b[0m\u001b[0misel\u001b[0m\u001b[0;34m(\u001b[0m\u001b[0mno\u001b[0m\u001b[0;34m=\u001b[0m\u001b[0mno\u001b[0m\u001b[0;34m)\u001b[0m\u001b[0;34m,\u001b[0m\u001b[0;34m\u001b[0m\u001b[0m\n\u001b[1;32m      5\u001b[0m     \u001b[0;34m'units'\u001b[0m\u001b[0;34m:\u001b[0m \u001b[0;34m'$R_{rs}$ ($sr^{-1}$)'\u001b[0m\u001b[0;34m,\u001b[0m\u001b[0;34m\u001b[0m\u001b[0m\n",
      "\u001b[0;31mNameError\u001b[0m: name 'ds' is not defined"
     ]
    }
   ],
   "source": [
    "#Rrs\n",
    "rrs = {\n",
    "    'y1': ds.rrs.isel(no=no),\n",
    "    'y2': ds_inv.rrs.isel(no=no),\n",
    "    'units': '$R_{rs}$ ($sr^{-1}$)',\n",
    "    'name': '$R_{rs}$'\n",
    "}\n",
    "\n",
    "\n",
    "# pico\n",
    "a_pico = {\n",
    "    'y1': ds.iops.sel(comp='pico', iop='a').isel(no=no),\n",
    "    'y2': ds_inv.iops.sel(comp='pico', iop='a').isel(no=no),\n",
    "    'units': 'absorption ($m^{-1}$)',\n",
    "    'name': 'pico'\n",
    "}\n",
    "\n",
    "# nano\n",
    "a_nano = {\n",
    "    'y1': ds.iops.sel(comp='nano', iop='a').isel(no=no),\n",
    "    'y2': ds_inv.iops.sel(comp='nano', iop='a').isel(no=no),\n",
    "    'units': 'absorption ($m^{-1}$)',\n",
    "    'name': 'nano'\n",
    "}\n",
    "\n",
    "# pico\n",
    "a_micro = {\n",
    "    'y1': ds.iops.sel(comp='micro', iop='a').isel(no=no),\n",
    "    'y2': ds_inv.iops.sel(comp='micro', iop='a').isel(no=no),\n",
    "    'units': 'absorption ($m^{-1}$)',\n",
    "    'name': 'micro'\n",
    "}\n",
    "\n",
    "# total absorption\n",
    "a_total = {\n",
    "    'y1': ds.iops.sel(iop='a').isel(no=no).sum(axis=0),\n",
    "    'y2': ds_inv.iops.sel(iop='a').isel(no=no).sum(axis=0),\n",
    "    'units': 'absorption ($m^{-1}$)',\n",
    "    'name': 'total absorption'\n",
    "}\n",
    "\n",
    "# total bb\n",
    "bb_total = {\n",
    "    'y1': ds.iops.sel(iop='bb').isel(no=no).sum(axis=0),\n",
    "    'y2': ds_inv.iops.sel(iop='bb').isel(no=no).sum(axis=0),\n",
    "    'units': 'backscatter ($m^{-1}$)',\n",
    "    'name': 'total backscatter'\n",
    "}"
   ]
  },
  {
   "cell_type": "code",
   "execution_count": 3,
   "metadata": {},
   "outputs": [
    {
     "ename": "NameError",
     "evalue": "name 'rrs' is not defined",
     "output_type": "error",
     "traceback": [
      "\u001b[0;31m---------------------------------------------------------------------------\u001b[0m",
      "\u001b[0;31mNameError\u001b[0m                                 Traceback (most recent call last)",
      "\u001b[0;32m<ipython-input-3-5de01d5a40fb>\u001b[0m in \u001b[0;36m<module>\u001b[0;34m\u001b[0m\n\u001b[0;32m----> 1\u001b[0;31m \u001b[0mplot_spectral_fit\u001b[0m\u001b[0;34m(\u001b[0m\u001b[0;34m[\u001b[0m\u001b[0mrrs\u001b[0m\u001b[0;34m,\u001b[0m \u001b[0ma_total\u001b[0m\u001b[0;34m,\u001b[0m \u001b[0mbb_total\u001b[0m\u001b[0;34m,\u001b[0m \u001b[0ma_pico\u001b[0m\u001b[0;34m,\u001b[0m \u001b[0ma_nano\u001b[0m\u001b[0;34m,\u001b[0m \u001b[0ma_micro\u001b[0m\u001b[0;34m]\u001b[0m\u001b[0;34m,\u001b[0m \u001b[0mfigsize\u001b[0m\u001b[0;34m=\u001b[0m\u001b[0;34m(\u001b[0m\u001b[0;36m7\u001b[0m\u001b[0;34m,\u001b[0m\u001b[0;36m6\u001b[0m\u001b[0;34m)\u001b[0m\u001b[0;34m)\u001b[0m\u001b[0;34m\u001b[0m\u001b[0m\n\u001b[0m\u001b[1;32m      2\u001b[0m \u001b[0mplt\u001b[0m\u001b[0;34m.\u001b[0m\u001b[0msavefig\u001b[0m\u001b[0;34m(\u001b[0m\u001b[0;34m'hyperspectral_fit.svg'\u001b[0m\u001b[0;34m,\u001b[0m \u001b[0mformat\u001b[0m\u001b[0;34m=\u001b[0m\u001b[0;34m'svg'\u001b[0m\u001b[0;34m)\u001b[0m\u001b[0;34m\u001b[0m\u001b[0m\n",
      "\u001b[0;31mNameError\u001b[0m: name 'rrs' is not defined"
     ]
    }
   ],
   "source": [
    "plot_spectral_fit([rrs, a_total, bb_total, a_pico, a_nano, a_micro], figsize=(7,6))\n",
    "plt.savefig('hyperspectral_fit.svg', format='svg')"
   ]
  },
  {
   "cell_type": "code",
   "execution_count": null,
   "metadata": {},
   "outputs": [],
   "source": []
  }
 ],
 "metadata": {
  "kernelspec": {
   "display_name": "Python 3",
   "language": "python",
   "name": "python3"
  },
  "language_info": {
   "codemirror_mode": {
    "name": "ipython",
    "version": 3
   },
   "file_extension": ".py",
   "mimetype": "text/x-python",
   "name": "python",
   "nbconvert_exporter": "python",
   "pygments_lexer": "ipython3",
   "version": "3.6.4"
  }
 },
 "nbformat": 4,
 "nbformat_minor": 4
}
