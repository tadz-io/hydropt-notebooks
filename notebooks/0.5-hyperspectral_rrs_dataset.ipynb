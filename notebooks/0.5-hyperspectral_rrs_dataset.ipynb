{
 "cells": [
  {
   "cell_type": "code",
   "execution_count": 1,
   "metadata": {},
   "outputs": [],
   "source": [
    "import pandas as pd\n",
    "import numpy as np\n",
    "import matplotlib.pyplot as plt\n",
    "import xarray as xr\n",
    "import sys\n",
    "# needs github.com/tadz-io/hydropt@280cbba94fcd9353172e574ff5b517056fe0b730\n",
    "import hydropt.hydropt as hd"
   ]
  },
  {
   "cell_type": "code",
   "execution_count": 2,
   "metadata": {},
   "outputs": [],
   "source": [
    "plt.style.use('bmh')\n",
    "plt.rcParams['figure.figsize'] = (8,4)"
   ]
  },
  {
   "cell_type": "code",
   "execution_count": 3,
   "metadata": {},
   "outputs": [],
   "source": [
    "wbands_hs = np.arange(400,711, 5)"
   ]
  },
  {
   "cell_type": "code",
   "execution_count": 4,
   "metadata": {},
   "outputs": [],
   "source": [
    "# initialize reflectance model: IOP -> Rrs\n",
    "fwd_model = hd.PolynomialReflectance()"
   ]
  },
  {
   "cell_type": "code",
   "execution_count": 7,
   "metadata": {},
   "outputs": [],
   "source": [
    "# load IOP dataset\n",
    "ds = xr.load_dataset('./data/psc_rrs_iop.nc')"
   ]
  },
  {
   "cell_type": "code",
   "execution_count": 9,
   "metadata": {},
   "outputs": [],
   "source": [
    "# apply forward model to total absorption and backscatter\n",
    "rrs = xr.apply_ufunc(\n",
    "    lambda x: fwd_model.forward(np.sum(x, axis=0)),\n",
    "    ds.iops.groupby('no'),\n",
    "    input_core_dims=[['comp', 'iop', 'wavelength']],\n",
    "    output_core_dims=[['wavelength']])"
   ]
  },
  {
   "cell_type": "code",
   "execution_count": 10,
   "metadata": {},
   "outputs": [],
   "source": [
    "ds['rrs'] = rrs"
   ]
  },
  {
   "cell_type": "code",
   "execution_count": null,
   "metadata": {},
   "outputs": [],
   "source": [
    "ds.rrs.plot.line(x='wavelength', add_legend=False, alpha=.2);"
   ]
  },
  {
   "cell_type": "code",
   "execution_count": 16,
   "metadata": {},
   "outputs": [],
   "source": [
    "# save to netcdf\n",
    "ds.to_netcdf('data/psc_rrs_iop.nc')"
   ]
  },
  {
   "cell_type": "code",
   "execution_count": null,
   "metadata": {},
   "outputs": [],
   "source": []
  }
 ],
 "metadata": {
  "kernelspec": {
   "display_name": "Python 3.6.4 64-bit ('hydropt-4-sent3': conda)",
   "language": "python",
   "name": "python36464bithydropt4sent3condaecaad8e5a2a4432fb3fef79a9eadc220"
  },
  "language_info": {
   "codemirror_mode": {
    "name": "ipython",
    "version": 3
   },
   "file_extension": ".py",
   "mimetype": "text/x-python",
   "name": "python",
   "nbconvert_exporter": "python",
   "pygments_lexer": "ipython3",
   "version": "3.6.4"
  }
 },
 "nbformat": 4,
 "nbformat_minor": 4
}
